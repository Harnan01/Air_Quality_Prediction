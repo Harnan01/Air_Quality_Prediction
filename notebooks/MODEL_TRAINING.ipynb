{
 "cells": [
  {
   "cell_type": "markdown",
   "metadata": {},
   "source": [
    "# Model Training\n",
    "\n",
    "In this notebook, we will train a neural network model to predict air quality levels based on the features in the dataset."
   ]
  },
  {
   "cell_type": "code",
   "metadata": {
    "ExecuteTime": {
     "end_time": "2024-06-10T16:34:36.854230Z",
     "start_time": "2024-06-10T16:34:31.646778Z"
    }
   },
   "source": [
    "import pandas as pd\n",
    "from sklearn.model_selection import train_test_split, cross_val_score\n",
    "from sklearn.preprocessing import StandardScaler, LabelEncoder\n",
    "from tensorflow.keras.models import Sequential\n",
    "from tensorflow.keras.layers import Dense, Dropout, Input\n",
    "from tensorflow.keras.utils import to_categorical\n",
    "import joblib\n"
   ],
   "outputs": [],
   "execution_count": 1
  },
  {
   "cell_type": "markdown",
   "metadata": {},
   "source": [
    "## Load the Dataset\n",
    "\n",
    "We will load the Air Quality dataset from Google Drive."
   ]
  },
  {
   "cell_type": "code",
   "metadata": {
    "ExecuteTime": {
     "end_time": "2024-06-10T16:35:43.337744Z",
     "start_time": "2024-06-10T16:35:41.243131Z"
    }
   },
   "source": [
    "# Load the dataset\n",
    "file_path = 'C:/Users/murug/Desktop/Projects/AIR_QUALITY_PREDICTION/notebooks/data/Modified_AirQualityUCI.xlsx'\n",
    "air_quality_data = pd.read_excel(file_path)"
   ],
   "outputs": [],
   "execution_count": 2
  },
  {
   "cell_type": "markdown",
   "metadata": {},
   "source": [
    "## Prepare the Data\n",
    "\n",
    "We will define the features (X) and the target (y) variables. Then, we will encode the target variable and split the data into training and testing sets."
   ]
  },
  {
   "cell_type": "code",
   "metadata": {
    "ExecuteTime": {
     "end_time": "2024-06-10T16:35:49.622166Z",
     "start_time": "2024-06-10T16:35:49.566967Z"
    }
   },
   "source": [
    "# Define features (X) and target (y)\n",
    "X = air_quality_data.drop(columns=['Pollutant_Level'])\n",
    "y = air_quality_data['Pollutant_Level']\n",
    "\n",
    "# Encode the target variable\n",
    "label_encoder = LabelEncoder()\n",
    "y_encoded = label_encoder.fit_transform(y)\n",
    "y_categorical = to_categorical(y_encoded)\n",
    "\n",
    "# Split the data into training and testing sets\n",
    "X_train, X_test, y_train, y_test = train_test_split(X, y_categorical, test_size=0.2, random_state=42)"
   ],
   "outputs": [],
   "execution_count": 3
  },
  {
   "cell_type": "markdown",
   "metadata": {},
   "source": [
    "## Standardize the Features\n",
    "\n",
    "We will standardize the feature columns using StandardScaler."
   ]
  },
  {
   "cell_type": "code",
   "metadata": {
    "ExecuteTime": {
     "end_time": "2024-06-10T16:35:55.015259Z",
     "start_time": "2024-06-10T16:35:54.998281Z"
    }
   },
   "source": [
    "# Standardize the feature columns\n",
    "scaler = StandardScaler()\n",
    "X_train = scaler.fit_transform(X_train)\n",
    "X_test = scaler.transform(X_test)"
   ],
   "outputs": [],
   "execution_count": 4
  },
  {
   "cell_type": "markdown",
   "metadata": {},
   "source": [
    "## Define and Train the Neural Network Model\n",
    "\n",
    "We will define a neural network model using Keras, compile it, and train it using the training data."
   ]
  },
  {
   "cell_type": "code",
   "metadata": {
    "ExecuteTime": {
     "end_time": "2024-06-10T16:36:25.236212Z",
     "start_time": "2024-06-10T16:35:59.635040Z"
    }
   },
   "source": [
    "# Define the neural network model\n",
    "def create_model():\n",
    "    model = Sequential()\n",
    "    model.add(Input(shape=(X_train.shape[1],)))\n",
    "    model.add(Dense(64, activation='relu'))\n",
    "    model.add(Dropout(0.5))\n",
    "    model.add(Dense(32, activation='relu'))\n",
    "    model.add(Dropout(0.5))\n",
    "    model.add(Dense(3, activation='softmax'))  # 3 output classes: Normal, Mid, High\n",
    "    model.compile(optimizer='adam', loss='categorical_crossentropy', metrics=['accuracy'])  # Change loss function to 'categorical_crossentropy'\n",
    "    return model\n",
    "\n",
    "# Create and train the model\n",
    "model = create_model()\n",
    "model.fit(X_train, y_train, epochs=50, batch_size=32, validation_data=(X_test, y_test))"
   ],
   "outputs": [
    {
     "name": "stdout",
     "output_type": "stream",
     "text": [
      "Epoch 1/50\n",
      "\u001B[1m234/234\u001B[0m \u001B[32m━━━━━━━━━━━━━━━━━━━━\u001B[0m\u001B[37m\u001B[0m \u001B[1m2s\u001B[0m 2ms/step - accuracy: 0.6147 - loss: 0.8527 - val_accuracy: 0.8488 - val_loss: 0.3918\n",
      "Epoch 2/50\n",
      "\u001B[1m234/234\u001B[0m \u001B[32m━━━━━━━━━━━━━━━━━━━━\u001B[0m\u001B[37m\u001B[0m \u001B[1m0s\u001B[0m 2ms/step - accuracy: 0.8048 - loss: 0.4599 - val_accuracy: 0.9017 - val_loss: 0.2724\n",
      "Epoch 3/50\n",
      "\u001B[1m234/234\u001B[0m \u001B[32m━━━━━━━━━━━━━━━━━━━━\u001B[0m\u001B[37m\u001B[0m \u001B[1m1s\u001B[0m 2ms/step - accuracy: 0.8503 - loss: 0.3612 - val_accuracy: 0.9129 - val_loss: 0.2213\n",
      "Epoch 4/50\n",
      "\u001B[1m234/234\u001B[0m \u001B[32m━━━━━━━━━━━━━━━━━━━━\u001B[0m\u001B[37m\u001B[0m \u001B[1m0s\u001B[0m 2ms/step - accuracy: 0.8779 - loss: 0.3061 - val_accuracy: 0.9279 - val_loss: 0.1844\n",
      "Epoch 5/50\n",
      "\u001B[1m234/234\u001B[0m \u001B[32m━━━━━━━━━━━━━━━━━━━━\u001B[0m\u001B[37m\u001B[0m \u001B[1m0s\u001B[0m 2ms/step - accuracy: 0.8847 - loss: 0.2730 - val_accuracy: 0.9407 - val_loss: 0.1541\n",
      "Epoch 6/50\n",
      "\u001B[1m234/234\u001B[0m \u001B[32m━━━━━━━━━━━━━━━━━━━━\u001B[0m\u001B[37m\u001B[0m \u001B[1m0s\u001B[0m 2ms/step - accuracy: 0.9093 - loss: 0.2251 - val_accuracy: 0.9525 - val_loss: 0.1335\n",
      "Epoch 7/50\n",
      "\u001B[1m234/234\u001B[0m \u001B[32m━━━━━━━━━━━━━━━━━━━━\u001B[0m\u001B[37m\u001B[0m \u001B[1m0s\u001B[0m 2ms/step - accuracy: 0.9146 - loss: 0.2178 - val_accuracy: 0.9615 - val_loss: 0.1151\n",
      "Epoch 8/50\n",
      "\u001B[1m234/234\u001B[0m \u001B[32m━━━━━━━━━━━━━━━━━━━━\u001B[0m\u001B[37m\u001B[0m \u001B[1m1s\u001B[0m 2ms/step - accuracy: 0.9214 - loss: 0.1867 - val_accuracy: 0.9621 - val_loss: 0.1068\n",
      "Epoch 9/50\n",
      "\u001B[1m234/234\u001B[0m \u001B[32m━━━━━━━━━━━━━━━━━━━━\u001B[0m\u001B[37m\u001B[0m \u001B[1m0s\u001B[0m 2ms/step - accuracy: 0.9258 - loss: 0.1815 - val_accuracy: 0.9647 - val_loss: 0.0950\n",
      "Epoch 10/50\n",
      "\u001B[1m234/234\u001B[0m \u001B[32m━━━━━━━━━━━━━━━━━━━━\u001B[0m\u001B[37m\u001B[0m \u001B[1m0s\u001B[0m 2ms/step - accuracy: 0.9326 - loss: 0.1659 - val_accuracy: 0.9696 - val_loss: 0.0920\n",
      "Epoch 11/50\n",
      "\u001B[1m234/234\u001B[0m \u001B[32m━━━━━━━━━━━━━━━━━━━━\u001B[0m\u001B[37m\u001B[0m \u001B[1m0s\u001B[0m 2ms/step - accuracy: 0.9364 - loss: 0.1468 - val_accuracy: 0.9690 - val_loss: 0.0795\n",
      "Epoch 12/50\n",
      "\u001B[1m234/234\u001B[0m \u001B[32m━━━━━━━━━━━━━━━━━━━━\u001B[0m\u001B[37m\u001B[0m \u001B[1m0s\u001B[0m 2ms/step - accuracy: 0.9394 - loss: 0.1505 - val_accuracy: 0.9792 - val_loss: 0.0718\n",
      "Epoch 13/50\n",
      "\u001B[1m234/234\u001B[0m \u001B[32m━━━━━━━━━━━━━━━━━━━━\u001B[0m\u001B[37m\u001B[0m \u001B[1m1s\u001B[0m 2ms/step - accuracy: 0.9490 - loss: 0.1312 - val_accuracy: 0.9776 - val_loss: 0.0678\n",
      "Epoch 14/50\n",
      "\u001B[1m234/234\u001B[0m \u001B[32m━━━━━━━━━━━━━━━━━━━━\u001B[0m\u001B[37m\u001B[0m \u001B[1m0s\u001B[0m 2ms/step - accuracy: 0.9471 - loss: 0.1290 - val_accuracy: 0.9717 - val_loss: 0.0697\n",
      "Epoch 15/50\n",
      "\u001B[1m234/234\u001B[0m \u001B[32m━━━━━━━━━━━━━━━━━━━━\u001B[0m\u001B[37m\u001B[0m \u001B[1m0s\u001B[0m 2ms/step - accuracy: 0.9506 - loss: 0.1212 - val_accuracy: 0.9808 - val_loss: 0.0581\n",
      "Epoch 16/50\n",
      "\u001B[1m234/234\u001B[0m \u001B[32m━━━━━━━━━━━━━━━━━━━━\u001B[0m\u001B[37m\u001B[0m \u001B[1m1s\u001B[0m 2ms/step - accuracy: 0.9490 - loss: 0.1286 - val_accuracy: 0.9792 - val_loss: 0.0592\n",
      "Epoch 17/50\n",
      "\u001B[1m234/234\u001B[0m \u001B[32m━━━━━━━━━━━━━━━━━━━━\u001B[0m\u001B[37m\u001B[0m \u001B[1m1s\u001B[0m 2ms/step - accuracy: 0.9590 - loss: 0.1063 - val_accuracy: 0.9776 - val_loss: 0.0582\n",
      "Epoch 18/50\n",
      "\u001B[1m234/234\u001B[0m \u001B[32m━━━━━━━━━━━━━━━━━━━━\u001B[0m\u001B[37m\u001B[0m \u001B[1m0s\u001B[0m 2ms/step - accuracy: 0.9589 - loss: 0.0970 - val_accuracy: 0.9749 - val_loss: 0.0545\n",
      "Epoch 19/50\n",
      "\u001B[1m234/234\u001B[0m \u001B[32m━━━━━━━━━━━━━━━━━━━━\u001B[0m\u001B[37m\u001B[0m \u001B[1m0s\u001B[0m 2ms/step - accuracy: 0.9592 - loss: 0.1019 - val_accuracy: 0.9824 - val_loss: 0.0512\n",
      "Epoch 20/50\n",
      "\u001B[1m234/234\u001B[0m \u001B[32m━━━━━━━━━━━━━━━━━━━━\u001B[0m\u001B[37m\u001B[0m \u001B[1m0s\u001B[0m 2ms/step - accuracy: 0.9649 - loss: 0.0914 - val_accuracy: 0.9818 - val_loss: 0.0495\n",
      "Epoch 21/50\n",
      "\u001B[1m234/234\u001B[0m \u001B[32m━━━━━━━━━━━━━━━━━━━━\u001B[0m\u001B[37m\u001B[0m \u001B[1m0s\u001B[0m 2ms/step - accuracy: 0.9575 - loss: 0.1045 - val_accuracy: 0.9802 - val_loss: 0.0450\n",
      "Epoch 22/50\n",
      "\u001B[1m234/234\u001B[0m \u001B[32m━━━━━━━━━━━━━━━━━━━━\u001B[0m\u001B[37m\u001B[0m \u001B[1m0s\u001B[0m 2ms/step - accuracy: 0.9649 - loss: 0.0928 - val_accuracy: 0.9877 - val_loss: 0.0432\n",
      "Epoch 23/50\n",
      "\u001B[1m234/234\u001B[0m \u001B[32m━━━━━━━━━━━━━━━━━━━━\u001B[0m\u001B[37m\u001B[0m \u001B[1m0s\u001B[0m 2ms/step - accuracy: 0.9693 - loss: 0.0831 - val_accuracy: 0.9781 - val_loss: 0.0488\n",
      "Epoch 24/50\n",
      "\u001B[1m234/234\u001B[0m \u001B[32m━━━━━━━━━━━━━━━━━━━━\u001B[0m\u001B[37m\u001B[0m \u001B[1m1s\u001B[0m 2ms/step - accuracy: 0.9716 - loss: 0.0794 - val_accuracy: 0.9856 - val_loss: 0.0378\n",
      "Epoch 25/50\n",
      "\u001B[1m234/234\u001B[0m \u001B[32m━━━━━━━━━━━━━━━━━━━━\u001B[0m\u001B[37m\u001B[0m \u001B[1m1s\u001B[0m 2ms/step - accuracy: 0.9751 - loss: 0.0736 - val_accuracy: 0.9861 - val_loss: 0.0394\n",
      "Epoch 26/50\n",
      "\u001B[1m234/234\u001B[0m \u001B[32m━━━━━━━━━━━━━━━━━━━━\u001B[0m\u001B[37m\u001B[0m \u001B[1m0s\u001B[0m 2ms/step - accuracy: 0.9707 - loss: 0.0800 - val_accuracy: 0.9866 - val_loss: 0.0381\n",
      "Epoch 27/50\n",
      "\u001B[1m234/234\u001B[0m \u001B[32m━━━━━━━━━━━━━━━━━━━━\u001B[0m\u001B[37m\u001B[0m \u001B[1m0s\u001B[0m 2ms/step - accuracy: 0.9702 - loss: 0.0747 - val_accuracy: 0.9850 - val_loss: 0.0387\n",
      "Epoch 28/50\n",
      "\u001B[1m234/234\u001B[0m \u001B[32m━━━━━━━━━━━━━━━━━━━━\u001B[0m\u001B[37m\u001B[0m \u001B[1m0s\u001B[0m 2ms/step - accuracy: 0.9712 - loss: 0.0790 - val_accuracy: 0.9866 - val_loss: 0.0346\n",
      "Epoch 29/50\n",
      "\u001B[1m234/234\u001B[0m \u001B[32m━━━━━━━━━━━━━━━━━━━━\u001B[0m\u001B[37m\u001B[0m \u001B[1m1s\u001B[0m 2ms/step - accuracy: 0.9751 - loss: 0.0686 - val_accuracy: 0.9845 - val_loss: 0.0424\n",
      "Epoch 30/50\n",
      "\u001B[1m234/234\u001B[0m \u001B[32m━━━━━━━━━━━━━━━━━━━━\u001B[0m\u001B[37m\u001B[0m \u001B[1m1s\u001B[0m 2ms/step - accuracy: 0.9722 - loss: 0.0686 - val_accuracy: 0.9877 - val_loss: 0.0327\n",
      "Epoch 31/50\n",
      "\u001B[1m234/234\u001B[0m \u001B[32m━━━━━━━━━━━━━━━━━━━━\u001B[0m\u001B[37m\u001B[0m \u001B[1m0s\u001B[0m 2ms/step - accuracy: 0.9704 - loss: 0.0733 - val_accuracy: 0.9845 - val_loss: 0.0357\n",
      "Epoch 32/50\n",
      "\u001B[1m234/234\u001B[0m \u001B[32m━━━━━━━━━━━━━━━━━━━━\u001B[0m\u001B[37m\u001B[0m \u001B[1m0s\u001B[0m 2ms/step - accuracy: 0.9742 - loss: 0.0670 - val_accuracy: 0.9882 - val_loss: 0.0315\n",
      "Epoch 33/50\n",
      "\u001B[1m234/234\u001B[0m \u001B[32m━━━━━━━━━━━━━━━━━━━━\u001B[0m\u001B[37m\u001B[0m \u001B[1m1s\u001B[0m 2ms/step - accuracy: 0.9746 - loss: 0.0611 - val_accuracy: 0.9856 - val_loss: 0.0345\n",
      "Epoch 34/50\n",
      "\u001B[1m234/234\u001B[0m \u001B[32m━━━━━━━━━━━━━━━━━━━━\u001B[0m\u001B[37m\u001B[0m \u001B[1m0s\u001B[0m 2ms/step - accuracy: 0.9730 - loss: 0.0703 - val_accuracy: 0.9877 - val_loss: 0.0289\n",
      "Epoch 35/50\n",
      "\u001B[1m234/234\u001B[0m \u001B[32m━━━━━━━━━━━━━━━━━━━━\u001B[0m\u001B[37m\u001B[0m \u001B[1m1s\u001B[0m 2ms/step - accuracy: 0.9774 - loss: 0.0632 - val_accuracy: 0.9925 - val_loss: 0.0291\n",
      "Epoch 36/50\n",
      "\u001B[1m234/234\u001B[0m \u001B[32m━━━━━━━━━━━━━━━━━━━━\u001B[0m\u001B[37m\u001B[0m \u001B[1m0s\u001B[0m 2ms/step - accuracy: 0.9761 - loss: 0.0632 - val_accuracy: 0.9872 - val_loss: 0.0313\n",
      "Epoch 37/50\n",
      "\u001B[1m234/234\u001B[0m \u001B[32m━━━━━━━━━━━━━━━━━━━━\u001B[0m\u001B[37m\u001B[0m \u001B[1m0s\u001B[0m 2ms/step - accuracy: 0.9793 - loss: 0.0601 - val_accuracy: 0.9877 - val_loss: 0.0336\n",
      "Epoch 38/50\n",
      "\u001B[1m234/234\u001B[0m \u001B[32m━━━━━━━━━━━━━━━━━━━━\u001B[0m\u001B[37m\u001B[0m \u001B[1m0s\u001B[0m 2ms/step - accuracy: 0.9766 - loss: 0.0608 - val_accuracy: 0.9866 - val_loss: 0.0296\n",
      "Epoch 39/50\n",
      "\u001B[1m234/234\u001B[0m \u001B[32m━━━━━━━━━━━━━━━━━━━━\u001B[0m\u001B[37m\u001B[0m \u001B[1m0s\u001B[0m 2ms/step - accuracy: 0.9775 - loss: 0.0566 - val_accuracy: 0.9904 - val_loss: 0.0268\n",
      "Epoch 40/50\n",
      "\u001B[1m234/234\u001B[0m \u001B[32m━━━━━━━━━━━━━━━━━━━━\u001B[0m\u001B[37m\u001B[0m \u001B[1m0s\u001B[0m 2ms/step - accuracy: 0.9778 - loss: 0.0530 - val_accuracy: 0.9877 - val_loss: 0.0265\n",
      "Epoch 41/50\n",
      "\u001B[1m234/234\u001B[0m \u001B[32m━━━━━━━━━━━━━━━━━━━━\u001B[0m\u001B[37m\u001B[0m \u001B[1m0s\u001B[0m 2ms/step - accuracy: 0.9789 - loss: 0.0561 - val_accuracy: 0.9915 - val_loss: 0.0247\n",
      "Epoch 42/50\n",
      "\u001B[1m234/234\u001B[0m \u001B[32m━━━━━━━━━━━━━━━━━━━━\u001B[0m\u001B[37m\u001B[0m \u001B[1m0s\u001B[0m 2ms/step - accuracy: 0.9787 - loss: 0.0552 - val_accuracy: 0.9877 - val_loss: 0.0343\n",
      "Epoch 43/50\n",
      "\u001B[1m234/234\u001B[0m \u001B[32m━━━━━━━━━━━━━━━━━━━━\u001B[0m\u001B[37m\u001B[0m \u001B[1m0s\u001B[0m 2ms/step - accuracy: 0.9788 - loss: 0.0569 - val_accuracy: 0.9925 - val_loss: 0.0242\n",
      "Epoch 44/50\n",
      "\u001B[1m234/234\u001B[0m \u001B[32m━━━━━━━━━━━━━━━━━━━━\u001B[0m\u001B[37m\u001B[0m \u001B[1m0s\u001B[0m 2ms/step - accuracy: 0.9806 - loss: 0.0492 - val_accuracy: 0.9925 - val_loss: 0.0263\n",
      "Epoch 45/50\n",
      "\u001B[1m234/234\u001B[0m \u001B[32m━━━━━━━━━━━━━━━━━━━━\u001B[0m\u001B[37m\u001B[0m \u001B[1m0s\u001B[0m 2ms/step - accuracy: 0.9835 - loss: 0.0497 - val_accuracy: 0.9888 - val_loss: 0.0325\n",
      "Epoch 46/50\n",
      "\u001B[1m234/234\u001B[0m \u001B[32m━━━━━━━━━━━━━━━━━━━━\u001B[0m\u001B[37m\u001B[0m \u001B[1m0s\u001B[0m 2ms/step - accuracy: 0.9788 - loss: 0.0565 - val_accuracy: 0.9909 - val_loss: 0.0255\n",
      "Epoch 47/50\n",
      "\u001B[1m234/234\u001B[0m \u001B[32m━━━━━━━━━━━━━━━━━━━━\u001B[0m\u001B[37m\u001B[0m \u001B[1m0s\u001B[0m 2ms/step - accuracy: 0.9787 - loss: 0.0519 - val_accuracy: 0.9915 - val_loss: 0.0231\n",
      "Epoch 48/50\n",
      "\u001B[1m234/234\u001B[0m \u001B[32m━━━━━━━━━━━━━━━━━━━━\u001B[0m\u001B[37m\u001B[0m \u001B[1m0s\u001B[0m 2ms/step - accuracy: 0.9793 - loss: 0.0529 - val_accuracy: 0.9920 - val_loss: 0.0223\n",
      "Epoch 49/50\n",
      "\u001B[1m234/234\u001B[0m \u001B[32m━━━━━━━━━━━━━━━━━━━━\u001B[0m\u001B[37m\u001B[0m \u001B[1m0s\u001B[0m 2ms/step - accuracy: 0.9795 - loss: 0.0535 - val_accuracy: 0.9936 - val_loss: 0.0225\n",
      "Epoch 50/50\n",
      "\u001B[1m234/234\u001B[0m \u001B[32m━━━━━━━━━━━━━━━━━━━━\u001B[0m\u001B[37m\u001B[0m \u001B[1m0s\u001B[0m 2ms/step - accuracy: 0.9829 - loss: 0.0462 - val_accuracy: 0.9850 - val_loss: 0.0362\n"
     ]
    },
    {
     "data": {
      "text/plain": [
       "<keras.src.callbacks.history.History at 0x1af65144e60>"
      ]
     },
     "execution_count": 5,
     "metadata": {},
     "output_type": "execute_result"
    }
   ],
   "execution_count": 5
  },
  {
   "cell_type": "markdown",
   "metadata": {},
   "source": [
    "## Save the Model\n",
    "\n",
    "We will save the trained model to a file."
   ]
  },
  {
   "cell_type": "code",
   "metadata": {
    "ExecuteTime": {
     "end_time": "2024-06-10T16:37:08.894236Z",
     "start_time": "2024-06-10T16:37:08.766372Z"
    }
   },
   "source": [
    "# Save the model\n",
    "model.save('air_quality_model.h5')"
   ],
   "outputs": [
    {
     "name": "stderr",
     "output_type": "stream",
     "text": [
      "WARNING:absl:You are saving your model as an HDF5 file via `model.save()` or `keras.saving.save_model(model)`. This file format is considered legacy. We recommend using instead the native Keras format, e.g. `model.save('my_model.keras')` or `keras.saving.save_model(model, 'my_model.keras')`. \n"
     ]
    }
   ],
   "execution_count": 6
  },
  {
   "cell_type": "markdown",
   "metadata": {},
   "source": [
    "## Cross-Validation\n",
    "\n",
    "We will perform cross-validation to evaluate the model's performance using scikeras."
   ]
  },
  {
   "cell_type": "code",
   "metadata": {
    "ExecuteTime": {
     "end_time": "2024-06-10T16:39:13.303853Z",
     "start_time": "2024-06-10T16:37:39.756876Z"
    }
   },
   "source": [
    "# Perform cross-validation using scikeras\n",
    "from scikeras.wrappers import KerasClassifier\n",
    "from sklearn.pipeline import Pipeline\n",
    "\n",
    "# One-hot encode the target variable for cross-validation\n",
    "y_categorical = to_categorical(y_encoded)\n",
    "\n",
    "keras_model = KerasClassifier(model=create_model, epochs=50, batch_size=32, verbose=0)\n",
    "pipeline = Pipeline([('scaler', StandardScaler()), ('classifier', keras_model)])\n",
    "cv_scores = cross_val_score(pipeline, X, y_categorical, cv=5)\n",
    "print(f'Cross-Validation Accuracy: {cv_scores.mean():.4f} ± {cv_scores.std():.4f}')\n",
    "\n",
    "joblib.dump(scaler, 'scaler.pkl')"
   ],
   "outputs": [
    {
     "name": "stdout",
     "output_type": "stream",
     "text": [
      "Cross-Validation Accuracy: 0.9411 ± 0.0948\n"
     ]
    },
    {
     "data": {
      "text/plain": [
       "['scaler.pkl']"
      ]
     },
     "execution_count": 7,
     "metadata": {},
     "output_type": "execute_result"
    }
   ],
   "execution_count": 7
  },
  {
   "metadata": {},
   "cell_type": "code",
   "outputs": [],
   "execution_count": null,
   "source": ""
  }
 ],
 "metadata": {
  "kernelspec": {
   "name": "python3",
   "language": "python",
   "display_name": "Python 3 (ipykernel)"
  }
 },
 "nbformat": 4,
 "nbformat_minor": 2
}
